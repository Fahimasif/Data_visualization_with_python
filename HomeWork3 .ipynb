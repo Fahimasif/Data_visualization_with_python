{
 "cells": [
  {
   "cell_type": "code",
   "execution_count": 33,
   "id": "3c693f48",
   "metadata": {},
   "outputs": [
    {
     "ename": "SyntaxError",
     "evalue": "invalid syntax (89662848.py, line 1)",
     "output_type": "error",
     "traceback": [
      "\u001b[0;36m  File \u001b[0;32m\"/tmp/ipykernel_63/89662848.py\"\u001b[0;36m, line \u001b[0;32m1\u001b[0m\n\u001b[0;31m    Home work 2\u001b[0m\n\u001b[0m         ^\u001b[0m\n\u001b[0;31mSyntaxError\u001b[0m\u001b[0;31m:\u001b[0m invalid syntax\n"
     ]
    }
   ],
   "source": [
    "Home work 2"
   ]
  },
  {
   "cell_type": "code",
   "execution_count": null,
   "id": "3b102ade",
   "metadata": {},
   "outputs": [],
   "source": [
    "import numpy as np\n",
    "import pandas as pd\n",
    "import matplotlib.pyplot as plt\n",
    "import seaborn as sns"
   ]
  },
  {
   "cell_type": "code",
   "execution_count": null,
   "id": "410fbbf9",
   "metadata": {},
   "outputs": [],
   "source": [
    "df = pd.read_csv(\"hyundai.csv\")\n",
    "display(df.head())\n",
    "display(df.tail())"
   ]
  },
  {
   "cell_type": "code",
   "execution_count": null,
   "id": "0d1e72b3",
   "metadata": {},
   "outputs": [],
   "source": [
    "df.info()"
   ]
  },
  {
   "cell_type": "markdown",
   "id": "11449bfc",
   "metadata": {},
   "source": [
    "Pie chart"
   ]
  },
  {
   "cell_type": "code",
   "execution_count": null,
   "id": "f77f1ccc",
   "metadata": {},
   "outputs": [],
   "source": [
    "df[\"transmission\"].value_counts().plot(kind=\"pie\", \n",
    "                                       autopct='%1.1f%%', \n",
    "                                       startangle=180)\n",
    "plt.ylabel(\"\")\n",
    "plt.show()"
   ]
  },
  {
   "cell_type": "code",
   "execution_count": 34,
   "id": "5e3296f2",
   "metadata": {},
   "outputs": [
    {
     "ename": "SyntaxError",
     "evalue": "invalid syntax (309100774.py, line 1)",
     "output_type": "error",
     "traceback": [
      "\u001b[0;36m  File \u001b[0;32m\"/tmp/ipykernel_63/309100774.py\"\u001b[0;36m, line \u001b[0;32m1\u001b[0m\n\u001b[0;31m    This pie chart is not a good visualizaton tool in here because it has 4 class and datas are overlaping.\u001b[0m\n\u001b[0m         ^\u001b[0m\n\u001b[0;31mSyntaxError\u001b[0m\u001b[0;31m:\u001b[0m invalid syntax\n"
     ]
    }
   ],
   "source": [
    "This pie chart is not a good visualizaton tool in here because it has 4 class and datas are overlaping."
   ]
  },
  {
   "cell_type": "markdown",
   "id": "57c1097b",
   "metadata": {},
   "source": [
    "Bar Plot"
   ]
  },
  {
   "cell_type": "code",
   "execution_count": null,
   "id": "006ec7ae",
   "metadata": {},
   "outputs": [],
   "source": [
    "df_fuelType = pd.DataFrame(df[\"fuelType\"].value_counts())\n",
    "df_fuelType = df_fuelType.reset_index()\n",
    "df_fuelType = df_fuelType.rename(columns={\"index\":\"fuelType\",\n",
    "                                          \"fuelType\":\"no_of_cars\"})\n",
    "\n",
    "df_fuelType[\"% of cars\"] = (df_fuelType[\"no_of_cars\"]/df.shape[0])*100\n",
    "\n",
    "df_fuelType = df_fuelType.round(2)\n",
    "display(df_fuelType)"
   ]
  },
  {
   "cell_type": "code",
   "execution_count": null,
   "id": "69eb8274",
   "metadata": {},
   "outputs": [],
   "source": [
    "sns.barplot(x=\"fuelType\", \n",
    "            y=\"% of cars\", \n",
    "            data=df_fuelType, \n",
    "            color=\"blue\",\n",
    "            alpha=0.8)\n",
    "\n",
    "plt.xlabel(\"Types of fuel\")\n",
    "plt.ylabel(\"% of cars\")\n",
    "plt.title(\"Percentage of cars present in each fuelType\")\n",
    "\n",
    "plt.yticks(np.arange(0,101,10))\n",
    "\n",
    "plt.show()"
   ]
  },
  {
   "cell_type": "markdown",
   "id": "2e8303e0",
   "metadata": {},
   "source": [
    "Home work 3"
   ]
  },
  {
   "cell_type": "code",
   "execution_count": null,
   "id": "07aa7ab2",
   "metadata": {},
   "outputs": [],
   "source": [
    "plt.figure(figsize=(20,16))\n",
    "\n",
    "plt.subplot(2, 1, 1)\n",
    "sns.scatterplot(x=\"mileage\", y=\"price\", data=df)\n",
    "\n",
    "plt.subplot(2, 1, 2)\n",
    "sns.scatterplot(x=\"mpg\", y=\"price\", data=df)\n",
    "\n",
    "\n",
    "plt.tight_layout()\n",
    "plt.show()"
   ]
  },
  {
   "cell_type": "markdown",
   "id": "0a8d87a2",
   "metadata": {},
   "source": [
    " regression plot"
   ]
  },
  {
   "cell_type": "code",
   "execution_count": null,
   "id": "840823cf",
   "metadata": {},
   "outputs": [],
   "source": [
    "plt.figure(figsize=(20,16))\n",
    "plt.subplot(2, 1, 1)\n",
    "sns.regplot(x=\"mileage\", y=\"price\", data=df, line_kws={\"color\":\"red\"})\n",
    "\n",
    "plt.subplot(2, 1, 2)\n",
    "sns.regplot(x=\"mileage\", y=\"price\", data=df, scatter_kws={\"color\":\"orange\", \"edgecolor\":\"white\"})\n",
    "\n",
    "plt.tight_layout()\n",
    "plt.show()"
   ]
  },
  {
   "cell_type": "markdown",
   "id": "188e4517",
   "metadata": {},
   "source": [
    "Pair plot"
   ]
  },
  {
   "cell_type": "code",
   "execution_count": null,
   "id": "81693b78",
   "metadata": {},
   "outputs": [],
   "source": [
    "sns.pairplot(df, corner=True)\n",
    "plt.tight_layout()\n",
    "plt.show()\n"
   ]
  },
  {
   "cell_type": "markdown",
   "id": "d7a89efb",
   "metadata": {},
   "source": [
    "Pair plot is inconvinent here because there is large amount of data."
   ]
  },
  {
   "cell_type": "code",
   "execution_count": null,
   "id": "62d35acd",
   "metadata": {},
   "outputs": [],
   "source": []
  },
  {
   "cell_type": "code",
   "execution_count": null,
   "id": "b3950abd",
   "metadata": {},
   "outputs": [],
   "source": []
  },
  {
   "cell_type": "code",
   "execution_count": null,
   "id": "772168a5",
   "metadata": {},
   "outputs": [],
   "source": []
  }
 ],
 "metadata": {
  "kernelspec": {
   "display_name": "Python 3 (ipykernel)",
   "language": "python",
   "name": "python3"
  },
  "language_info": {
   "codemirror_mode": {
    "name": "ipython",
    "version": 3
   },
   "file_extension": ".py",
   "mimetype": "text/x-python",
   "name": "python",
   "nbconvert_exporter": "python",
   "pygments_lexer": "ipython3",
   "version": "3.9.5"
  }
 },
 "nbformat": 4,
 "nbformat_minor": 5
}
